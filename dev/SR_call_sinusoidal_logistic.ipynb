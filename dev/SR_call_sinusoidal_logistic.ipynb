{
 "cells": [
  {
   "cell_type": "code",
   "execution_count": 1,
   "metadata": {},
   "outputs": [],
   "source": [
    "from D_CODE.run_simulation import run as run_SRT\n",
    "from D_CODE.run_simulation_vi import run as run_DCODE"
   ]
  },
  {
   "cell_type": "markdown",
   "metadata": {},
   "source": [
    "### STD:"
   ]
  },
  {
   "cell_type": "markdown",
   "metadata": {},
   "source": [
    "##### SR-T"
   ]
  },
  {
   "cell_type": "code",
   "execution_count": 2,
   "metadata": {},
   "outputs": [],
   "source": [
    "# setting:\n",
    "ode_name = 'OscillatingLogisticODE' # help=\"name of the ode\", type=str\n",
    "ode_param = None # help=\"parameters of the ode (default: None)\", type=str, default=None\n",
    "x_id = 0 # help=\"ID of the equation to be learned\", type=int, default=0\n",
    "freq = 10 # help=\"sampling frequency\", type=float, default=10\n",
    "n_sample = 50 # help=\"number of trajectories\", type=int, default=100\n",
    "noise_sigma = 0.01 # help=\"noise level (default 0)\", type=float, default=0.\n",
    "alg = 'tv' # help=\"name of the benchmark\", type=str, default='tv', choices=['tv', 'spline', 'gp']\n",
    "seed = 100 # help=\"random seed\", type=int, default=0\n",
    "n_seed = 1 # help=\"random seed\", type=int, default=10"
   ]
  },
  {
   "cell_type": "code",
   "execution_count": 3,
   "metadata": {},
   "outputs": [
    {
     "name": "stdout",
     "output_type": "stream",
     "text": [
      "Running with: ode_name=OscillatingLogisticODE, ode_param=None, x_id=0, freq=10, n_sample=50, noise_sigma=0.01, alg=tv, seed=100, n_seed=1\n",
      "updated version 0\n",
      "[0.0, 0.0]\n",
      "[0.1, 0.0]\n",
      "(101, 50, 2)\n",
      "[0.10331846 0.15092049 0.21580729 0.27319529 0.30359092 0.31473646\n",
      " 0.29043132 0.2601519  0.2331661  0.23421141 0.26677964 0.32391939\n",
      " 0.39252496 0.45463912 0.49555554 0.51010431 0.48505364 0.45340556\n",
      " 0.43969421 0.4502503 ]\n"
     ]
    },
    {
     "ename": "KeyboardInterrupt",
     "evalue": "",
     "output_type": "error",
     "traceback": [
      "\u001b[0;31m---------------------------------------------------------------------------\u001b[0m",
      "\u001b[0;31mKeyboardInterrupt\u001b[0m                         Traceback (most recent call last)",
      "Cell \u001b[0;32mIn[3], line 13\u001b[0m\n\u001b[1;32m     10\u001b[0m \u001b[38;5;28;01melse\u001b[39;00m:\n\u001b[1;32m     11\u001b[0m     freq \u001b[38;5;241m=\u001b[39m freq\n\u001b[0;32m---> 13\u001b[0m \u001b[43mrun_SRT\u001b[49m\u001b[43m(\u001b[49m\u001b[43mode_name\u001b[49m\u001b[43m,\u001b[49m\u001b[43m \u001b[49m\u001b[43mparam\u001b[49m\u001b[43m,\u001b[49m\u001b[43m \u001b[49m\u001b[43mx_id\u001b[49m\u001b[43m,\u001b[49m\u001b[43m \u001b[49m\u001b[43mfreq\u001b[49m\u001b[43m,\u001b[49m\u001b[43m \u001b[49m\u001b[43mn_sample\u001b[49m\u001b[43m,\u001b[49m\u001b[43m \u001b[49m\u001b[43mnoise_sigma\u001b[49m\u001b[43m,\u001b[49m\u001b[43m \u001b[49m\u001b[43malg\u001b[49m\u001b[43m,\u001b[49m\u001b[43m \u001b[49m\u001b[43mseed\u001b[49m\u001b[38;5;241;43m=\u001b[39;49m\u001b[43mseed\u001b[49m\u001b[43m,\u001b[49m\u001b[43m \u001b[49m\u001b[43mn_seed\u001b[49m\u001b[38;5;241;43m=\u001b[39;49m\u001b[43mn_seed\u001b[49m\u001b[43m)\u001b[49m\n",
      "File \u001b[0;32m~/Documents/polimi/thesis/repos/D-CODE/D_CODE/run_simulation.py:64\u001b[0m, in \u001b[0;36mrun\u001b[0;34m(ode_name, ode_param, x_id, freq, n_sample, noise_ratio, alg, seed, n_seed)\u001b[0m\n\u001b[1;32m     62\u001b[0m     dxdt_hat \u001b[38;5;241m=\u001b[39m (yt[\u001b[38;5;241m1\u001b[39m:, :, :] \u001b[38;5;241m-\u001b[39m yt[:\u001b[38;5;241m-\u001b[39m\u001b[38;5;241m1\u001b[39m, :, :]) \u001b[38;5;241m/\u001b[39m (dg\u001b[38;5;241m.\u001b[39msolver\u001b[38;5;241m.\u001b[39mt[\u001b[38;5;241m1\u001b[39m:] \u001b[38;5;241m-\u001b[39m dg\u001b[38;5;241m.\u001b[39msolver\u001b[38;5;241m.\u001b[39mt[:\u001b[38;5;241m-\u001b[39m\u001b[38;5;241m1\u001b[39m])[:, \u001b[38;5;28;01mNone\u001b[39;00m, \u001b[38;5;28;01mNone\u001b[39;00m]\n\u001b[1;32m     63\u001b[0m \u001b[38;5;28;01melif\u001b[39;00m alg \u001b[38;5;241m!=\u001b[39m \u001b[38;5;124m'\u001b[39m\u001b[38;5;124mgp\u001b[39m\u001b[38;5;124m'\u001b[39m:\n\u001b[0;32m---> 64\u001b[0m     dxdt_hat \u001b[38;5;241m=\u001b[39m \u001b[43mnum_diff\u001b[49m\u001b[43m(\u001b[49m\u001b[43myt\u001b[49m\u001b[43m,\u001b[49m\u001b[43m \u001b[49m\u001b[43mdg\u001b[49m\u001b[43m,\u001b[49m\u001b[43m \u001b[49m\u001b[43malg\u001b[49m\u001b[43m)\u001b[49m\n\u001b[1;32m     65\u001b[0m \u001b[38;5;28;01melse\u001b[39;00m:\n\u001b[1;32m     66\u001b[0m     dxdt_hat, xt_hat \u001b[38;5;241m=\u001b[39m num_diff_gp(yt, dg, ode)\n",
      "File \u001b[0;32m~/Documents/polimi/thesis/repos/D-CODE/D_CODE/interpolate.py:142\u001b[0m, in \u001b[0;36mnum_diff\u001b[0;34m(yt, dg, alg)\u001b[0m\n\u001b[1;32m    141\u001b[0m \u001b[38;5;28;01mdef\u001b[39;00m \u001b[38;5;21mnum_diff\u001b[39m(yt, dg, alg):\n\u001b[0;32m--> 142\u001b[0m     alpha \u001b[38;5;241m=\u001b[39m \u001b[43mnum_dff_tuning\u001b[49m\u001b[43m(\u001b[49m\u001b[43myt\u001b[49m\u001b[43m,\u001b[49m\u001b[43m \u001b[49m\u001b[43mdg\u001b[49m\u001b[43m,\u001b[49m\u001b[43m \u001b[49m\u001b[43malg\u001b[49m\u001b[43m)\u001b[49m\n\u001b[1;32m    144\u001b[0m     T, B, D \u001b[38;5;241m=\u001b[39m yt\u001b[38;5;241m.\u001b[39mshape\n\u001b[1;32m    146\u001b[0m     diff_mat \u001b[38;5;241m=\u001b[39m np\u001b[38;5;241m.\u001b[39mzeros_like(yt)\n",
      "File \u001b[0;32m~/Documents/polimi/thesis/repos/D-CODE/D_CODE/interpolate.py:128\u001b[0m, in \u001b[0;36mnum_dff_tuning\u001b[0;34m(yt, dg, alg)\u001b[0m\n\u001b[1;32m    126\u001b[0m \u001b[38;5;28;01mfor\u001b[39;00m alpha \u001b[38;5;129;01min\u001b[39;00m grid:\n\u001b[1;32m    127\u001b[0m     \u001b[38;5;28;01mif\u001b[39;00m alg \u001b[38;5;241m==\u001b[39m \u001b[38;5;124m'\u001b[39m\u001b[38;5;124mtv\u001b[39m\u001b[38;5;124m'\u001b[39m:\n\u001b[0;32m--> 128\u001b[0m         res \u001b[38;5;241m=\u001b[39m \u001b[43mTVRegDiff\u001b[49m\u001b[43m(\u001b[49m\u001b[43my_single\u001b[49m\u001b[43m,\u001b[49m\u001b[43m \u001b[49m\u001b[43mitern\u001b[49m\u001b[38;5;241;43m=\u001b[39;49m\u001b[38;5;241;43m200\u001b[39;49m\u001b[43m,\u001b[49m\u001b[43m \u001b[49m\u001b[43malph\u001b[49m\u001b[38;5;241;43m=\u001b[39;49m\u001b[43malpha\u001b[49m\u001b[43m,\u001b[49m\u001b[43m \u001b[49m\u001b[43mu0\u001b[49m\u001b[38;5;241;43m=\u001b[39;49m\u001b[38;5;28;43;01mNone\u001b[39;49;00m\u001b[43m,\u001b[49m\u001b[43m \u001b[49m\u001b[43mscale\u001b[49m\u001b[38;5;241;43m=\u001b[39;49m\u001b[38;5;124;43m'\u001b[39;49m\u001b[38;5;124;43msmall\u001b[39;49m\u001b[38;5;124;43m'\u001b[39;49m\u001b[43m,\u001b[49m\u001b[43m \u001b[49m\u001b[43mdx\u001b[49m\u001b[38;5;241;43m=\u001b[39;49m\u001b[43mdg\u001b[49m\u001b[38;5;241;43m.\u001b[39;49m\u001b[43msolver\u001b[49m\u001b[38;5;241;43m.\u001b[39;49m\u001b[43mdt\u001b[49m\u001b[43m,\u001b[49m\n\u001b[1;32m    129\u001b[0m \u001b[43m                        \u001b[49m\u001b[43mplotflag\u001b[49m\u001b[38;5;241;43m=\u001b[39;49m\u001b[38;5;28;43;01mFalse\u001b[39;49;00m\u001b[43m,\u001b[49m\u001b[43m \u001b[49m\u001b[43mprecondflag\u001b[49m\u001b[38;5;241;43m=\u001b[39;49m\u001b[38;5;28;43;01mFalse\u001b[39;49;00m\u001b[43m,\u001b[49m\n\u001b[1;32m    130\u001b[0m \u001b[43m                        \u001b[49m\u001b[43mdiffkernel\u001b[49m\u001b[38;5;241;43m=\u001b[39;49m\u001b[38;5;124;43m'\u001b[39;49m\u001b[38;5;124;43msq\u001b[39;49m\u001b[38;5;124;43m'\u001b[39;49m\u001b[43m,\u001b[49m\u001b[43m \u001b[49m\u001b[43mcgtol\u001b[49m\u001b[38;5;241;43m=\u001b[39;49m\u001b[38;5;241;43m1e-3\u001b[39;49m\u001b[43m,\u001b[49m\u001b[43m \u001b[49m\u001b[43mcgmaxit\u001b[49m\u001b[38;5;241;43m=\u001b[39;49m\u001b[38;5;241;43m100\u001b[39;49m\u001b[43m)\u001b[49m\n\u001b[1;32m    131\u001b[0m     \u001b[38;5;28;01melif\u001b[39;00m alg \u001b[38;5;241m==\u001b[39m \u001b[38;5;124m'\u001b[39m\u001b[38;5;124mspline\u001b[39m\u001b[38;5;124m'\u001b[39m:\n\u001b[1;32m    132\u001b[0m         res \u001b[38;5;241m=\u001b[39m dxdt(y_single, dg\u001b[38;5;241m.\u001b[39msolver\u001b[38;5;241m.\u001b[39mt, kind\u001b[38;5;241m=\u001b[39m\u001b[38;5;124m\"\u001b[39m\u001b[38;5;124mspline\u001b[39m\u001b[38;5;124m\"\u001b[39m, s\u001b[38;5;241m=\u001b[39malpha)\n",
      "File \u001b[0;32m~/Documents/polimi/thesis/repos/D-CODE/D_CODE/tvregdiff/tvregdiff.py:257\u001b[0m, in \u001b[0;36mTVRegDiff\u001b[0;34m(data, itern, alph, u0, scale, ep, dx, plotflag, diagflag, precondflag, diffkernel, cgtol, cgmaxit)\u001b[0m\n\u001b[1;32m    254\u001b[0m \u001b[38;5;28;01mdef\u001b[39;00m \u001b[38;5;21mlinop\u001b[39m(v): \u001b[38;5;28;01mreturn\u001b[39;00m (alph \u001b[38;5;241m*\u001b[39m L \u001b[38;5;241m*\u001b[39m v \u001b[38;5;241m+\u001b[39m AT(A(v)))\n\u001b[1;32m    255\u001b[0m linop \u001b[38;5;241m=\u001b[39m splin\u001b[38;5;241m.\u001b[39mLinearOperator((n, n), linop)\n\u001b[0;32m--> 257\u001b[0m s, info_i \u001b[38;5;241m=\u001b[39m \u001b[43msparse\u001b[49m\u001b[38;5;241;43m.\u001b[39;49m\u001b[43mlinalg\u001b[49m\u001b[38;5;241;43m.\u001b[39;49m\u001b[43mcg\u001b[49m\u001b[43m(\u001b[49m\n\u001b[1;32m    258\u001b[0m \u001b[43m    \u001b[49m\u001b[43mlinop\u001b[49m\u001b[43m,\u001b[49m\u001b[43m \u001b[49m\u001b[43mg\u001b[49m\u001b[43m,\u001b[49m\u001b[43m \u001b[49m\u001b[43mx0\u001b[49m\u001b[38;5;241;43m=\u001b[39;49m\u001b[38;5;28;43;01mNone\u001b[39;49;00m\u001b[43m,\u001b[49m\u001b[43m \u001b[49m\u001b[43mtol\u001b[49m\u001b[38;5;241;43m=\u001b[39;49m\u001b[43mcgtol\u001b[49m\u001b[43m,\u001b[49m\u001b[43m \u001b[49m\u001b[43mmaxiter\u001b[49m\u001b[38;5;241;43m=\u001b[39;49m\u001b[43mcgmaxit\u001b[49m\u001b[43m,\u001b[49m\n\u001b[1;32m    259\u001b[0m \u001b[43m    \u001b[49m\u001b[43mcallback\u001b[49m\u001b[38;5;241;43m=\u001b[39;49m\u001b[38;5;28;43;01mNone\u001b[39;49;00m\u001b[43m,\u001b[49m\u001b[43m \u001b[49m\u001b[43mM\u001b[49m\u001b[38;5;241;43m=\u001b[39;49m\u001b[43mP\u001b[49m\u001b[43m,\u001b[49m\u001b[43m \u001b[49m\u001b[43matol\u001b[49m\u001b[38;5;241;43m=\u001b[39;49m\u001b[38;5;124;43m'\u001b[39;49m\u001b[38;5;124;43mlegacy\u001b[39;49m\u001b[38;5;124;43m'\u001b[39;49m\u001b[43m)\u001b[49m\n\u001b[1;32m    261\u001b[0m \u001b[38;5;28;01mif\u001b[39;00m diagflag:\n\u001b[1;32m    262\u001b[0m     log_iteration(ii, s[\u001b[38;5;241m0\u001b[39m], u, g)\n",
      "File \u001b[0;32m~/miniconda3/envs/smart_SINDy/lib/python3.12/site-packages/scipy/_lib/deprecation.py:213\u001b[0m, in \u001b[0;36m_deprecate_positional_args.<locals>._inner_deprecate_positional_args.<locals>.inner_f\u001b[0;34m(*args, **kwargs)\u001b[0m\n\u001b[1;32m    211\u001b[0m extra_args \u001b[38;5;241m=\u001b[39m \u001b[38;5;28mlen\u001b[39m(args) \u001b[38;5;241m-\u001b[39m \u001b[38;5;28mlen\u001b[39m(all_args)\n\u001b[1;32m    212\u001b[0m \u001b[38;5;28;01mif\u001b[39;00m extra_args \u001b[38;5;241m<\u001b[39m\u001b[38;5;241m=\u001b[39m \u001b[38;5;241m0\u001b[39m:\n\u001b[0;32m--> 213\u001b[0m     \u001b[38;5;28;01mreturn\u001b[39;00m \u001b[43mf\u001b[49m\u001b[43m(\u001b[49m\u001b[38;5;241;43m*\u001b[39;49m\u001b[43margs\u001b[49m\u001b[43m,\u001b[49m\u001b[43m \u001b[49m\u001b[38;5;241;43m*\u001b[39;49m\u001b[38;5;241;43m*\u001b[39;49m\u001b[43mkwargs\u001b[49m\u001b[43m)\u001b[49m\n\u001b[1;32m    215\u001b[0m \u001b[38;5;66;03m# extra_args > 0\u001b[39;00m\n\u001b[1;32m    216\u001b[0m args_msg \u001b[38;5;241m=\u001b[39m [\n\u001b[1;32m    217\u001b[0m     \u001b[38;5;124mf\u001b[39m\u001b[38;5;124m\"\u001b[39m\u001b[38;5;132;01m{\u001b[39;00mname\u001b[38;5;132;01m}\u001b[39;00m\u001b[38;5;124m=\u001b[39m\u001b[38;5;132;01m{\u001b[39;00marg\u001b[38;5;132;01m}\u001b[39;00m\u001b[38;5;124m\"\u001b[39m\n\u001b[1;32m    218\u001b[0m     \u001b[38;5;28;01mfor\u001b[39;00m name, arg \u001b[38;5;129;01min\u001b[39;00m \u001b[38;5;28mzip\u001b[39m(kwonly_args[:extra_args], args[\u001b[38;5;241m-\u001b[39mextra_args:])\n\u001b[1;32m    219\u001b[0m ]\n",
      "File \u001b[0;32m~/miniconda3/envs/smart_SINDy/lib/python3.12/site-packages/scipy/sparse/linalg/_isolve/iterative.py:416\u001b[0m, in \u001b[0;36mcg\u001b[0;34m(A, b, x0, tol, maxiter, M, callback, atol, rtol)\u001b[0m\n\u001b[1;32m    413\u001b[0m     p \u001b[38;5;241m=\u001b[39m np\u001b[38;5;241m.\u001b[39mempty_like(r)\n\u001b[1;32m    414\u001b[0m     p[:] \u001b[38;5;241m=\u001b[39m z[:]\n\u001b[0;32m--> 416\u001b[0m q \u001b[38;5;241m=\u001b[39m \u001b[43mmatvec\u001b[49m\u001b[43m(\u001b[49m\u001b[43mp\u001b[49m\u001b[43m)\u001b[49m\n\u001b[1;32m    417\u001b[0m alpha \u001b[38;5;241m=\u001b[39m rho_cur \u001b[38;5;241m/\u001b[39m dotprod(p, q)\n\u001b[1;32m    418\u001b[0m x \u001b[38;5;241m+\u001b[39m\u001b[38;5;241m=\u001b[39m alpha\u001b[38;5;241m*\u001b[39mp\n",
      "File \u001b[0;32m~/miniconda3/envs/smart_SINDy/lib/python3.12/site-packages/scipy/sparse/linalg/_interface.py:236\u001b[0m, in \u001b[0;36mLinearOperator.matvec\u001b[0;34m(self, x)\u001b[0m\n\u001b[1;32m    233\u001b[0m \u001b[38;5;28;01mif\u001b[39;00m x\u001b[38;5;241m.\u001b[39mshape \u001b[38;5;241m!=\u001b[39m (N,) \u001b[38;5;129;01mand\u001b[39;00m x\u001b[38;5;241m.\u001b[39mshape \u001b[38;5;241m!=\u001b[39m (N,\u001b[38;5;241m1\u001b[39m):\n\u001b[1;32m    234\u001b[0m     \u001b[38;5;28;01mraise\u001b[39;00m \u001b[38;5;167;01mValueError\u001b[39;00m(\u001b[38;5;124m'\u001b[39m\u001b[38;5;124mdimension mismatch\u001b[39m\u001b[38;5;124m'\u001b[39m)\n\u001b[0;32m--> 236\u001b[0m y \u001b[38;5;241m=\u001b[39m \u001b[38;5;28;43mself\u001b[39;49m\u001b[38;5;241;43m.\u001b[39;49m\u001b[43m_matvec\u001b[49m\u001b[43m(\u001b[49m\u001b[43mx\u001b[49m\u001b[43m)\u001b[49m\n\u001b[1;32m    238\u001b[0m \u001b[38;5;28;01mif\u001b[39;00m \u001b[38;5;28misinstance\u001b[39m(x, np\u001b[38;5;241m.\u001b[39mmatrix):\n\u001b[1;32m    239\u001b[0m     y \u001b[38;5;241m=\u001b[39m asmatrix(y)\n",
      "File \u001b[0;32m~/miniconda3/envs/smart_SINDy/lib/python3.12/site-packages/scipy/sparse/linalg/_interface.py:593\u001b[0m, in \u001b[0;36m_CustomLinearOperator._matvec\u001b[0;34m(self, x)\u001b[0m\n\u001b[1;32m    592\u001b[0m \u001b[38;5;28;01mdef\u001b[39;00m \u001b[38;5;21m_matvec\u001b[39m(\u001b[38;5;28mself\u001b[39m, x):\n\u001b[0;32m--> 593\u001b[0m     \u001b[38;5;28;01mreturn\u001b[39;00m \u001b[38;5;28;43mself\u001b[39;49m\u001b[38;5;241;43m.\u001b[39;49m\u001b[43m__matvec_impl\u001b[49m\u001b[43m(\u001b[49m\u001b[43mx\u001b[49m\u001b[43m)\u001b[49m\n",
      "File \u001b[0;32m~/Documents/polimi/thesis/repos/D-CODE/D_CODE/tvregdiff/tvregdiff.py:254\u001b[0m, in \u001b[0;36mTVRegDiff.<locals>.linop\u001b[0;34m(v)\u001b[0m\n\u001b[0;32m--> 254\u001b[0m \u001b[38;5;28;01mdef\u001b[39;00m \u001b[38;5;21mlinop\u001b[39m(v): \u001b[38;5;28;01mreturn\u001b[39;00m (\u001b[43malph\u001b[49m\u001b[43m \u001b[49m\u001b[38;5;241;43m*\u001b[39;49m\u001b[43m \u001b[49m\u001b[43mL\u001b[49m \u001b[38;5;241m*\u001b[39m v \u001b[38;5;241m+\u001b[39m AT(A(v)))\n",
      "File \u001b[0;32m~/miniconda3/envs/smart_SINDy/lib/python3.12/site-packages/scipy/sparse/_matrix.py:47\u001b[0m, in \u001b[0;36mspmatrix.__rmul__\u001b[0;34m(self, other)\u001b[0m\n\u001b[1;32m     46\u001b[0m \u001b[38;5;28;01mdef\u001b[39;00m \u001b[38;5;21m__rmul__\u001b[39m(\u001b[38;5;28mself\u001b[39m, other):\n\u001b[0;32m---> 47\u001b[0m     \u001b[38;5;28;01mreturn\u001b[39;00m \u001b[38;5;28;43mself\u001b[39;49m\u001b[38;5;241;43m.\u001b[39;49m\u001b[43m_rmatmul_dispatch\u001b[49m\u001b[43m(\u001b[49m\u001b[43mother\u001b[49m\u001b[43m)\u001b[49m\n",
      "File \u001b[0;32m~/miniconda3/envs/smart_SINDy/lib/python3.12/site-packages/scipy/sparse/_base.py:675\u001b[0m, in \u001b[0;36m_spbase._rmatmul_dispatch\u001b[0;34m(self, other)\u001b[0m\n\u001b[1;32m    673\u001b[0m \u001b[38;5;28;01mdef\u001b[39;00m \u001b[38;5;21m_rmatmul_dispatch\u001b[39m(\u001b[38;5;28mself\u001b[39m, other):\n\u001b[1;32m    674\u001b[0m     \u001b[38;5;28;01mif\u001b[39;00m isscalarlike(other):\n\u001b[0;32m--> 675\u001b[0m         \u001b[38;5;28;01mreturn\u001b[39;00m \u001b[38;5;28;43mself\u001b[39;49m\u001b[38;5;241;43m.\u001b[39;49m\u001b[43m_mul_scalar\u001b[49m\u001b[43m(\u001b[49m\u001b[43mother\u001b[49m\u001b[43m)\u001b[49m\n\u001b[1;32m    676\u001b[0m     \u001b[38;5;28;01melse\u001b[39;00m:\n\u001b[1;32m    677\u001b[0m         \u001b[38;5;66;03m# Don't use asarray unless we have to\u001b[39;00m\n\u001b[1;32m    678\u001b[0m         \u001b[38;5;28;01mtry\u001b[39;00m:\n",
      "File \u001b[0;32m~/miniconda3/envs/smart_SINDy/lib/python3.12/site-packages/scipy/sparse/_data.py:140\u001b[0m, in \u001b[0;36m_data_matrix._mul_scalar\u001b[0;34m(self, other)\u001b[0m\n\u001b[1;32m    139\u001b[0m \u001b[38;5;28;01mdef\u001b[39;00m \u001b[38;5;21m_mul_scalar\u001b[39m(\u001b[38;5;28mself\u001b[39m, other):\n\u001b[0;32m--> 140\u001b[0m     \u001b[38;5;28;01mreturn\u001b[39;00m \u001b[38;5;28;43mself\u001b[39;49m\u001b[38;5;241;43m.\u001b[39;49m\u001b[43m_with_data\u001b[49m\u001b[43m(\u001b[49m\u001b[38;5;28;43mself\u001b[39;49m\u001b[38;5;241;43m.\u001b[39;49m\u001b[43mdata\u001b[49m\u001b[43m \u001b[49m\u001b[38;5;241;43m*\u001b[39;49m\u001b[43m \u001b[49m\u001b[43mother\u001b[49m\u001b[43m)\u001b[49m\n",
      "File \u001b[0;32m~/miniconda3/envs/smart_SINDy/lib/python3.12/site-packages/scipy/sparse/_compressed.py:1284\u001b[0m, in \u001b[0;36m_cs_matrix._with_data\u001b[0;34m(self, data, copy)\u001b[0m\n\u001b[1;32m   1279\u001b[0m \u001b[38;5;250m\u001b[39m\u001b[38;5;124;03m\"\"\"Returns a matrix with the same sparsity structure as self,\u001b[39;00m\n\u001b[1;32m   1280\u001b[0m \u001b[38;5;124;03mbut with different data.  By default the structure arrays\u001b[39;00m\n\u001b[1;32m   1281\u001b[0m \u001b[38;5;124;03m(i.e. .indptr and .indices) are copied.\u001b[39;00m\n\u001b[1;32m   1282\u001b[0m \u001b[38;5;124;03m\"\"\"\u001b[39;00m\n\u001b[1;32m   1283\u001b[0m \u001b[38;5;28;01mif\u001b[39;00m copy:\n\u001b[0;32m-> 1284\u001b[0m     \u001b[38;5;28;01mreturn\u001b[39;00m \u001b[38;5;28mself\u001b[39m\u001b[38;5;241m.\u001b[39m\u001b[38;5;18m__class__\u001b[39m((data, \u001b[38;5;28;43mself\u001b[39;49m\u001b[38;5;241;43m.\u001b[39;49m\u001b[43mindices\u001b[49m\u001b[38;5;241;43m.\u001b[39;49m\u001b[43mcopy\u001b[49m\u001b[43m(\u001b[49m\u001b[43m)\u001b[49m,\n\u001b[1;32m   1285\u001b[0m                            \u001b[38;5;28mself\u001b[39m\u001b[38;5;241m.\u001b[39mindptr\u001b[38;5;241m.\u001b[39mcopy()),\n\u001b[1;32m   1286\u001b[0m                           shape\u001b[38;5;241m=\u001b[39m\u001b[38;5;28mself\u001b[39m\u001b[38;5;241m.\u001b[39mshape,\n\u001b[1;32m   1287\u001b[0m                           dtype\u001b[38;5;241m=\u001b[39mdata\u001b[38;5;241m.\u001b[39mdtype)\n\u001b[1;32m   1288\u001b[0m \u001b[38;5;28;01melse\u001b[39;00m:\n\u001b[1;32m   1289\u001b[0m     \u001b[38;5;28;01mreturn\u001b[39;00m \u001b[38;5;28mself\u001b[39m\u001b[38;5;241m.\u001b[39m\u001b[38;5;18m__class__\u001b[39m((data, \u001b[38;5;28mself\u001b[39m\u001b[38;5;241m.\u001b[39mindices, \u001b[38;5;28mself\u001b[39m\u001b[38;5;241m.\u001b[39mindptr),\n\u001b[1;32m   1290\u001b[0m                           shape\u001b[38;5;241m=\u001b[39m\u001b[38;5;28mself\u001b[39m\u001b[38;5;241m.\u001b[39mshape, dtype\u001b[38;5;241m=\u001b[39mdata\u001b[38;5;241m.\u001b[39mdtype)\n",
      "\u001b[0;31mKeyboardInterrupt\u001b[0m: "
     ]
    }
   ],
   "source": [
    "print(\"Running with: ode_name={}, ode_param={}, x_id={}, freq={}, n_sample={}, noise_sigma={}, alg={}, seed={}, n_seed={}\".format(\n",
    "    ode_name, ode_param, x_id, freq, n_sample, noise_sigma, alg, seed, n_seed))\n",
    "\n",
    "if ode_param is not None:\n",
    "    param = [float(x) for x in ode_param.split(',')]\n",
    "else:\n",
    "    param = None\n",
    "if freq >= 1:\n",
    "    freq = int(freq)\n",
    "else:\n",
    "    freq = freq\n",
    "\n",
    "run_SRT(ode_name, param, x_id, freq, n_sample, noise_sigma, alg, seed=seed, n_seed=n_seed)"
   ]
  },
  {
   "cell_type": "markdown",
   "metadata": {},
   "source": [
    "##### D-CODE"
   ]
  },
  {
   "cell_type": "code",
   "execution_count": 2,
   "metadata": {},
   "outputs": [],
   "source": [
    "# setting:\n",
    "ode_name = 'OscillatingLogisticODE' # help=\"name of the ode\", type=str\n",
    "ode_param = None # help=\"parameters of the ode (default: None)\", type=str, default=None\n",
    "x_id = 0 # help=\"ID of the equation to be learned\", type=int, default=0\n",
    "freq = 10 # help=\"sampling frequency\", type=float, default=10\n",
    "n_sample = 50 # help=\"number of trajectories\", type=int, default=100\n",
    "noise_sigma = 0.01 # help=\"noise level (default 0)\", type=float, default=0.\n",
    "seed = 100 # help=\"random seed\", type=int, default=0\n",
    "n_seed = 1 # help=\"random seed\", type=int, default=10"
   ]
  },
  {
   "cell_type": "code",
   "execution_count": 3,
   "metadata": {},
   "outputs": [
    {
     "name": "stdout",
     "output_type": "stream",
     "text": [
      "Running with: ode_name=OscillatingLogisticODE, ode_param=None, x_id=0, freq=10, n_sample=50, noise_sigma=0.01, seed=100, n_seed=1\n",
      "Dataset shape:  (201, 50, 2)\n",
      "[0.0963538  0.11113927 0.12922439 0.1495659  0.17061166 0.19079895\n",
      " 0.20881535 0.22360342 0.234308   0.24035237 0.24164251 0.23873687\n",
      " 0.23281991 0.22545531 0.21824729 0.21259289 0.20962676 0.21029783\n",
      " 0.21540423 0.22546335]\n",
      "[0.10003757 0.14905037 0.19967728 0.25002701 0.29974638 0.34936004\n",
      " 0.3993505  0.44969443 0.50005803 0.55023695 0.60030682 0.65039443\n",
      " 0.7004436  0.75030127 0.79998949 0.84976061 0.8998114  0.95000588\n",
      " 0.99999974 1.04967368]\n",
      "Functions set:  {'sub': 1, 'mul': 1, 'pow': 1, 'add': 1, 'neg': 1, 'sin': 1}\n",
      " \n",
      "    |   Population Average    |             Best Individual              |\n",
      "---- ------------------------- ------------------------------------------ ----------\n",
      " Gen   Length          Fitness   Length          Fitness      OOB Fitness  Time Left\n",
      "   0    10.04      1.00563e+31        5          4.68494          4.70382      4.81m\n",
      "   1     8.48      4.17895e+23        9          4.51332          4.53219      4.07m\n",
      "   2     4.36      1.23473e+23        9          4.51296          4.53541      3.32m\n",
      " \n",
      "promising programs:\n",
      "sub(X0, pow(X0, 1.828))\n",
      "sub(X0, pow(X0, 1.796))\n",
      "sub(X0, pow(X0, 1.698))\n",
      "sub(X0, pow(X0, 1.694))\n",
      "sub(X0, mul(X0, X0))\n",
      "sub(X0, mul(X0, X0))\n",
      "sub(X0, mul(X0, X0))\n",
      "sub(X0, mul(X0, X0))\n",
      "sub(X0, mul(X0, X0))\n",
      "sub(X0, mul(X0, X0))\n",
      "sub(X0, mul(X0, X0))\n",
      "sub(X0, mul(X0, X0))\n",
      "sub(X0, mul(X0, X0))\n",
      "sub(X0, mul(X0, X0))\n",
      "sub(X0, mul(X0, X0))\n",
      " \n",
      "   3     4.29      4.17155e+14        5          4.48732          4.49047      3.35m\n",
      "   4     5.90      1.31712e+13        7          4.48106          4.49603      3.50m\n",
      " \n",
      "promising programs:\n",
      "sub(X0, pow(X0, 1.828))\n",
      "sub(X0, pow(X0, 1.828))\n",
      "sub(X0, pow(X0, 1.828))\n",
      "sub(X0, pow(X0, 1.828))\n",
      "sub(X0, pow(X0, 1.828))\n",
      "sub(X0, pow(X0, 1.828))\n",
      "sub(X0, pow(X0, 1.828))\n",
      "sub(X0, pow(X0, 1.828))\n",
      "sub(X0, pow(X0, 1.828))\n",
      "sub(X0, pow(X0, 1.796))\n",
      "sub(X0, pow(X0, 1.828))\n",
      "sub(X0, pow(X0, 1.796))\n",
      "sub(X0, pow(X0, 1.828))\n",
      "sub(X0, pow(X0, 1.828))\n",
      "sub(X0, pow(X0, 1.796))\n",
      " \n",
      "   5     5.74      7.47284e+15        8          4.48038          4.49633      3.04m\n",
      "   6     5.16      8.51372e+16        7          4.48019          4.50387      2.63m\n",
      "   7     5.15      1.73112e+19        8          4.48008          4.49899      2.48m\n",
      "   8     5.07      6.87174e+21        5          4.48453          4.51552      2.52m\n",
      "   9     5.05      2.42409e+18        5          4.48471           4.5139      2.42m\n",
      " \n",
      "promising programs:\n",
      "sub(X0, pow(X0, 1.828))\n",
      "sub(X0, pow(X0, 1.828))\n",
      "sub(X0, pow(X0, 1.828))\n",
      "sub(X0, pow(X0, 1.828))\n",
      "sub(X0, pow(X0, 1.828))\n",
      "sub(X0, pow(X0, 1.828))\n",
      "sub(X0, pow(X0, 1.828))\n",
      "sub(X0, pow(X0, 1.828))\n",
      "sub(X0, pow(X0, 1.828))\n",
      "sub(X0, pow(X0, 1.828))\n",
      "sub(X0, pow(X0, 1.828))\n",
      "sub(X0, pow(X0, 1.828))\n",
      "sub(X0, pow(X0, 1.828))\n",
      "sub(X0, pow(X0, 1.828))\n",
      "sub(X0, pow(X0, 1.828))\n",
      " \n",
      "  10     5.05      6.91585e+15        5          4.48478          4.51334      1.90m\n",
      "  11     5.03      1.63299e+24        5          4.48459          4.51502      1.69m\n",
      "\n",
      "D-CODE model:  X0 - X0**C\n",
      "\n",
      "building blocks:\n",
      "X0**1.8275524548683477\n",
      " \n",
      "number of building blocks:  1\n",
      " \n"
     ]
    },
    {
     "data": {
      "text/plain": [
       "([<function _lambdifygenerated(X0, X1)>],\n",
       " [<function D_CODE.gp_utils.get_building_blocks_lambda.<locals>.<lambda>(X0, X1, i=0)>])"
      ]
     },
     "execution_count": 3,
     "metadata": {},
     "output_type": "execute_result"
    }
   ],
   "source": [
    "print(\"Running with: ode_name={}, ode_param={}, x_id={}, freq={}, n_sample={}, noise_sigma={}, seed={}, n_seed={}\".format(\n",
    "    ode_name, ode_param, x_id, freq, n_sample, noise_sigma, seed, n_seed))\n",
    "\n",
    "if ode_param is not None:\n",
    "    param = [float(x) for x in ode_param.split(',')]\n",
    "else:\n",
    "    param = None\n",
    "if freq >= 1:\n",
    "    freq = int(freq)\n",
    "else:\n",
    "    freq = freq\n",
    "\n",
    "run_DCODE(ode_name, param, x_id, freq, n_sample, noise_sigma, seed=seed, n_seed=n_seed)"
   ]
  }
 ],
 "metadata": {
  "kernelspec": {
   "display_name": "smart_SINDy",
   "language": "python",
   "name": "python3"
  },
  "language_info": {
   "codemirror_mode": {
    "name": "ipython",
    "version": 3
   },
   "file_extension": ".py",
   "mimetype": "text/x-python",
   "name": "python",
   "nbconvert_exporter": "python",
   "pygments_lexer": "ipython3",
   "version": "3.12.2"
  }
 },
 "nbformat": 4,
 "nbformat_minor": 2
}
